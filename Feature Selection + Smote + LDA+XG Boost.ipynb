{
 "cells": [
  {
   "cell_type": "code",
   "execution_count": 1,
   "id": "125daac1",
   "metadata": {},
   "outputs": [],
   "source": [
    "import pandas as pd\n",
    "import numpy as np\n",
    "import matplotlib.pyplot as plt\n",
    "import seaborn as sns\n",
    "import os\n",
    "import time\n",
    "from sklearn.preprocessing import StandardScaler \n",
    "from sklearn.feature_selection import VarianceThreshold\n",
    "from sklearn.linear_model import Lasso, LogisticRegression\n",
    "from sklearn.feature_selection import SelectFromModel\n",
    "from sklearn.model_selection import train_test_split\n",
    "from sklearn.preprocessing import LabelEncoder, OneHotEncoder\n",
    "from sklearn.metrics import roc_curve\n",
    "from sklearn.metrics import roc_auc_score\n",
    "from sklearn.multiclass import OneVsRestClassifier\n",
    "from sklearn.ensemble import RandomForestClassifier\n",
    "from sklearn.metrics import confusion_matrix, f1_score\n",
    "from xgboost import XGBClassifier\n",
    "from sklearn.metrics import accuracy_score\n",
    "from imblearn.over_sampling import SMOTE"
   ]
  },
  {
   "cell_type": "code",
   "execution_count": 2,
   "id": "b2d612b9",
   "metadata": {},
   "outputs": [],
   "source": [
    "df_original = pd.read_csv('train_data.csv')"
   ]
  },
  {
   "cell_type": "code",
   "execution_count": 3,
   "id": "4ae8ebb9",
   "metadata": {},
   "outputs": [],
   "source": [
    "df_rf = df_original.copy()"
   ]
  },
  {
   "cell_type": "code",
   "execution_count": 4,
   "id": "44cf1303",
   "metadata": {},
   "outputs": [],
   "source": [
    "le = LabelEncoder()\n",
    "df_rf['profession']= le.fit_transform(df_rf['profession'])\n",
    "df_rf['gender']= le.fit_transform(df_rf['gender'])\n",
    "df_rf['highestDegree']= le.fit_transform(df_rf['highestDegree'])\n",
    "df_rf['maritalStatus']= le.fit_transform(df_rf['maritalStatus'])\n",
    "df_rf['noOfKids']= le.fit_transform(df_rf['noOfKids'])\n",
    "df_rf['otherMembership']= le.fit_transform(df_rf['otherMembership'])\n",
    "df_rf['blogger']= le.fit_transform(df_rf['blogger'])\n",
    "df_rf['articles']= le.fit_transform(df_rf['articles'])\n",
    "df_rf['amexCard']= le.fit_transform(df_rf['amexCard'])\n",
    "df_rf['purposeTravel']= le.fit_transform(df_rf['purposeTravel'])\n",
    "\n",
    "# y_rf = le.fit_transform(df_rf['loyaltyClass'])\n",
    "# df_rf = df_rf.drop(columns=['loyaltyClass'], axis=1)"
   ]
  },
  {
   "cell_type": "code",
   "execution_count": 17,
   "id": "aca0bb2b",
   "metadata": {},
   "outputs": [],
   "source": [
    "df_rf['age'].fillna(df_rf['age'].median(), inplace=True)\n",
    "df_rf['gender'].fillna(df_rf['gender'].mode(), inplace=True)\n",
    "df_rf['noOfKids'].fillna(df_rf['noOfKids'].median(), inplace=True)\n",
    "df_rf['pastStays1y'].fillna(df_rf['pastStays1y'].median(), inplace=True)\n",
    "df_rf['gender'] = df_rf['gender'].fillna(df_rf['gender'].mode()[0])\n",
    "df_rf['profession'] = df_rf['profession'].fillna(df_rf['profession'].mode()[0])"
   ]
  },
  {
   "cell_type": "code",
   "execution_count": 6,
   "id": "aab5e601",
   "metadata": {},
   "outputs": [],
   "source": [
    "df_rf = df_rf.drop(columns=['ID'])\n",
    "le = LabelEncoder()\n",
    "y_all = le.fit_transform(df_rf['loyaltyClass'])\n",
    "df_rf = df_rf.drop(columns=['loyaltyClass'], axis=1)\n",
    "x_all = df_rf"
   ]
  },
  {
   "cell_type": "code",
   "execution_count": 7,
   "id": "f8c24bee",
   "metadata": {},
   "outputs": [],
   "source": [
    "from sklearn.discriminant_analysis import LinearDiscriminantAnalysis\n",
    "lda_model = LinearDiscriminantAnalysis()\n",
    "X_lda = lda_model.fit_transform(x_all, y_all)"
   ]
  },
  {
   "cell_type": "code",
   "execution_count": 8,
   "id": "e5ea0351",
   "metadata": {},
   "outputs": [],
   "source": [
    "x, x_test, y, y_test = train_test_split(X_lda, y_all, test_size=0.20, random_state=42)"
   ]
  },
  {
   "cell_type": "code",
   "execution_count": 9,
   "id": "bc9d6c95",
   "metadata": {},
   "outputs": [],
   "source": [
    "sm = SMOTE()\n",
    "x_train_res, y_train_res = sm.fit_resample(x, y.ravel())"
   ]
  },
  {
   "cell_type": "code",
   "execution_count": null,
   "id": "6a4ed775",
   "metadata": {},
   "outputs": [],
   "source": []
  },
  {
   "cell_type": "code",
   "execution_count": 10,
   "id": "78e3c2a0",
   "metadata": {},
   "outputs": [],
   "source": [
    "clf = XGBClassifier(n_estimator=500, learning_rate=0.1)"
   ]
  },
  {
   "cell_type": "code",
   "execution_count": 11,
   "id": "57a4190f",
   "metadata": {},
   "outputs": [
    {
     "name": "stderr",
     "output_type": "stream",
     "text": [
      "/Users/chandanshashwat/opt/anaconda3/lib/python3.9/site-packages/xgboost/sklearn.py:1224: UserWarning: The use of label encoder in XGBClassifier is deprecated and will be removed in a future release. To remove this warning, do the following: 1) Pass option use_label_encoder=False when constructing XGBClassifier object; and 2) Encode your labels (y) as integers starting with 0, i.e. 0, 1, 2, ..., [num_class - 1].\n",
      "  warnings.warn(label_encoder_deprecation_msg, UserWarning)\n"
     ]
    },
    {
     "name": "stdout",
     "output_type": "stream",
     "text": [
      "[11:32:02] WARNING: ../src/learner.cc:576: \n",
      "Parameters: { \"n_estimator\" } might not be used.\n",
      "\n",
      "  This could be a false alarm, with some parameters getting used by language bindings but\n",
      "  then being mistakenly passed down to XGBoost core, or some parameter actually being used\n",
      "  but getting flagged wrongly here. Please open an issue if you find any such cases.\n",
      "\n",
      "\n",
      "[11:32:02] WARNING: ../src/learner.cc:1115: Starting in XGBoost 1.3.0, the default evaluation metric used with the objective 'multi:softprob' was changed from 'merror' to 'mlogloss'. Explicitly set eval_metric if you'd like to restore the old behavior.\n",
      "___ 0.7536540031433105 seconds ---\n"
     ]
    }
   ],
   "source": [
    "start_time= time.time()\n",
    "# model = clf.fit(x_train_res, y_train_res)\n",
    "model = clf.fit(x, y)\n",
    "print(\"___ %s seconds ---\" % (time.time() - start_time))"
   ]
  },
  {
   "cell_type": "code",
   "execution_count": 12,
   "id": "d52f8a77",
   "metadata": {},
   "outputs": [],
   "source": [
    "predictions = clf.predict_proba(x_test)"
   ]
  },
  {
   "cell_type": "code",
   "execution_count": 13,
   "id": "d32d7fd9",
   "metadata": {},
   "outputs": [],
   "source": [
    "y_classes = predictions.argmax(axis=-1)"
   ]
  },
  {
   "cell_type": "code",
   "execution_count": 14,
   "id": "35e9b3ea",
   "metadata": {},
   "outputs": [
    {
     "name": "stdout",
     "output_type": "stream",
     "text": [
      "Model accuracy score: 0.6005\n"
     ]
    }
   ],
   "source": [
    "print('Model accuracy score: {0:0.4f}'. format(accuracy_score(y_test, y_classes)))"
   ]
  },
  {
   "cell_type": "code",
   "execution_count": 15,
   "id": "1e648b4e",
   "metadata": {},
   "outputs": [
    {
     "data": {
      "text/plain": [
       "array([[248,   1, 529],\n",
       "       [ 18,   0,  57],\n",
       "       [191,   3, 953]])"
      ]
     },
     "execution_count": 15,
     "metadata": {},
     "output_type": "execute_result"
    }
   ],
   "source": [
    "predictions = clf.predict_proba(x_test)\n",
    "y_classes = predictions.argmax(axis=-1)\n",
    "cf_matrix = confusion_matrix(y_test, y_classes)\n",
    "cf_matrix"
   ]
  },
  {
   "cell_type": "code",
   "execution_count": 16,
   "id": "bee8e967",
   "metadata": {},
   "outputs": [],
   "source": [
    "#feature selection in case we can get more recall if drop classes \n",
    "from sklearn.ensemble import RandomForestClassifier\n",
    "from sklearn.feature_selection import SelectFromModel"
   ]
  },
  {
   "cell_type": "code",
   "execution_count": 17,
   "id": "9347b601",
   "metadata": {},
   "outputs": [],
   "source": [
    "x, x_test, y, y_test = train_test_split(x_all, y_all, test_size=0.20, random_state=42)"
   ]
  },
  {
   "cell_type": "code",
   "execution_count": 17,
   "id": "fe95ae28",
   "metadata": {},
   "outputs": [
    {
     "data": {
      "text/plain": [
       "SelectFromModel(estimator=RandomForestClassifier())"
      ]
     },
     "execution_count": 17,
     "metadata": {},
     "output_type": "execute_result"
    }
   ],
   "source": [
    "sel = SelectFromModel(RandomForestClassifier(n_estimators = 100))\n",
    "sel.fit(x, y)"
   ]
  },
  {
   "cell_type": "code",
   "execution_count": 18,
   "id": "dbfbcdbc",
   "metadata": {},
   "outputs": [
    {
     "data": {
      "text/plain": [
       "array([ True, False,  True, False,  True, False,  True])"
      ]
     },
     "execution_count": 18,
     "metadata": {},
     "output_type": "execute_result"
    }
   ],
   "source": [
    "sel.get_support()"
   ]
  },
  {
   "cell_type": "code",
   "execution_count": 19,
   "id": "0d06203f",
   "metadata": {},
   "outputs": [
    {
     "data": {
      "text/plain": [
       "4"
      ]
     },
     "execution_count": 19,
     "metadata": {},
     "output_type": "execute_result"
    }
   ],
   "source": [
    "selected_feat= x.columns[(sel.get_support())]\n",
    "len(selected_feat)"
   ]
  },
  {
   "cell_type": "code",
   "execution_count": 20,
   "id": "017840ee",
   "metadata": {},
   "outputs": [
    {
     "name": "stdout",
     "output_type": "stream",
     "text": [
      "Index(['age', 'creditRisk', 'articles', 'staySpend'], dtype='object')\n"
     ]
    }
   ],
   "source": [
    "print(selected_feat)"
   ]
  },
  {
   "cell_type": "code",
   "execution_count": 9,
   "id": "5ce68a25",
   "metadata": {},
   "outputs": [
    {
     "data": {
      "text/html": [
       "<div>\n",
       "<style scoped>\n",
       "    .dataframe tbody tr th:only-of-type {\n",
       "        vertical-align: middle;\n",
       "    }\n",
       "\n",
       "    .dataframe tbody tr th {\n",
       "        vertical-align: top;\n",
       "    }\n",
       "\n",
       "    .dataframe thead th {\n",
       "        text-align: right;\n",
       "    }\n",
       "</style>\n",
       "<table border=\"1\" class=\"dataframe\">\n",
       "  <thead>\n",
       "    <tr style=\"text-align: right;\">\n",
       "      <th></th>\n",
       "      <th>profession</th>\n",
       "      <th>age</th>\n",
       "      <th>gender</th>\n",
       "      <th>highestDegree</th>\n",
       "      <th>maritalStatus</th>\n",
       "      <th>noOfKids</th>\n",
       "      <th>creditRisk</th>\n",
       "      <th>otherMembership</th>\n",
       "      <th>pastStays1y</th>\n",
       "      <th>blogger</th>\n",
       "      <th>articles</th>\n",
       "      <th>amexCard</th>\n",
       "      <th>purposeTravel</th>\n",
       "      <th>staySpend</th>\n",
       "    </tr>\n",
       "  </thead>\n",
       "  <tbody>\n",
       "    <tr>\n",
       "      <th>0</th>\n",
       "      <td>2</td>\n",
       "      <td>39.0</td>\n",
       "      <td>1</td>\n",
       "      <td>3</td>\n",
       "      <td>2</td>\n",
       "      <td>0</td>\n",
       "      <td>3.18</td>\n",
       "      <td>3</td>\n",
       "      <td>23.0</td>\n",
       "      <td>0</td>\n",
       "      <td>7</td>\n",
       "      <td>1</td>\n",
       "      <td>2</td>\n",
       "      <td>1.433148e+03</td>\n",
       "    </tr>\n",
       "    <tr>\n",
       "      <th>1</th>\n",
       "      <td>1</td>\n",
       "      <td>39.0</td>\n",
       "      <td>2</td>\n",
       "      <td>0</td>\n",
       "      <td>1</td>\n",
       "      <td>1</td>\n",
       "      <td>2.07</td>\n",
       "      <td>3</td>\n",
       "      <td>48.0</td>\n",
       "      <td>0</td>\n",
       "      <td>4</td>\n",
       "      <td>1</td>\n",
       "      <td>1</td>\n",
       "      <td>3.837902e+01</td>\n",
       "    </tr>\n",
       "    <tr>\n",
       "      <th>2</th>\n",
       "      <td>0</td>\n",
       "      <td>44.0</td>\n",
       "      <td>0</td>\n",
       "      <td>5</td>\n",
       "      <td>1</td>\n",
       "      <td>5</td>\n",
       "      <td>2.81</td>\n",
       "      <td>0</td>\n",
       "      <td>32.0</td>\n",
       "      <td>0</td>\n",
       "      <td>1</td>\n",
       "      <td>0</td>\n",
       "      <td>1</td>\n",
       "      <td>0.000000e+00</td>\n",
       "    </tr>\n",
       "    <tr>\n",
       "      <th>3</th>\n",
       "      <td>2</td>\n",
       "      <td>39.0</td>\n",
       "      <td>1</td>\n",
       "      <td>1</td>\n",
       "      <td>2</td>\n",
       "      <td>0</td>\n",
       "      <td>3.46</td>\n",
       "      <td>3</td>\n",
       "      <td>6.0</td>\n",
       "      <td>0</td>\n",
       "      <td>16</td>\n",
       "      <td>1</td>\n",
       "      <td>2</td>\n",
       "      <td>0.000000e+00</td>\n",
       "    </tr>\n",
       "    <tr>\n",
       "      <th>4</th>\n",
       "      <td>0</td>\n",
       "      <td>39.0</td>\n",
       "      <td>0</td>\n",
       "      <td>1</td>\n",
       "      <td>3</td>\n",
       "      <td>5</td>\n",
       "      <td>3.21</td>\n",
       "      <td>5</td>\n",
       "      <td>25.0</td>\n",
       "      <td>1</td>\n",
       "      <td>0</td>\n",
       "      <td>0</td>\n",
       "      <td>0</td>\n",
       "      <td>7.644188e+02</td>\n",
       "    </tr>\n",
       "    <tr>\n",
       "      <th>...</th>\n",
       "      <td>...</td>\n",
       "      <td>...</td>\n",
       "      <td>...</td>\n",
       "      <td>...</td>\n",
       "      <td>...</td>\n",
       "      <td>...</td>\n",
       "      <td>...</td>\n",
       "      <td>...</td>\n",
       "      <td>...</td>\n",
       "      <td>...</td>\n",
       "      <td>...</td>\n",
       "      <td>...</td>\n",
       "      <td>...</td>\n",
       "      <td>...</td>\n",
       "    </tr>\n",
       "    <tr>\n",
       "      <th>9995</th>\n",
       "      <td>4</td>\n",
       "      <td>39.0</td>\n",
       "      <td>0</td>\n",
       "      <td>1</td>\n",
       "      <td>1</td>\n",
       "      <td>5</td>\n",
       "      <td>2.55</td>\n",
       "      <td>3</td>\n",
       "      <td>12.0</td>\n",
       "      <td>1</td>\n",
       "      <td>0</td>\n",
       "      <td>0</td>\n",
       "      <td>1</td>\n",
       "      <td>0.000000e+00</td>\n",
       "    </tr>\n",
       "    <tr>\n",
       "      <th>9996</th>\n",
       "      <td>1</td>\n",
       "      <td>39.0</td>\n",
       "      <td>0</td>\n",
       "      <td>3</td>\n",
       "      <td>1</td>\n",
       "      <td>1</td>\n",
       "      <td>2.73</td>\n",
       "      <td>3</td>\n",
       "      <td>9.0</td>\n",
       "      <td>0</td>\n",
       "      <td>4</td>\n",
       "      <td>1</td>\n",
       "      <td>2</td>\n",
       "      <td>9.387970e-07</td>\n",
       "    </tr>\n",
       "    <tr>\n",
       "      <th>9997</th>\n",
       "      <td>1</td>\n",
       "      <td>58.0</td>\n",
       "      <td>2</td>\n",
       "      <td>4</td>\n",
       "      <td>2</td>\n",
       "      <td>0</td>\n",
       "      <td>3.02</td>\n",
       "      <td>0</td>\n",
       "      <td>48.0</td>\n",
       "      <td>0</td>\n",
       "      <td>5</td>\n",
       "      <td>0</td>\n",
       "      <td>0</td>\n",
       "      <td>3.118682e+02</td>\n",
       "    </tr>\n",
       "    <tr>\n",
       "      <th>9998</th>\n",
       "      <td>1</td>\n",
       "      <td>27.0</td>\n",
       "      <td>0</td>\n",
       "      <td>3</td>\n",
       "      <td>2</td>\n",
       "      <td>0</td>\n",
       "      <td>1.50</td>\n",
       "      <td>4</td>\n",
       "      <td>40.0</td>\n",
       "      <td>0</td>\n",
       "      <td>4</td>\n",
       "      <td>0</td>\n",
       "      <td>0</td>\n",
       "      <td>8.269680e-05</td>\n",
       "    </tr>\n",
       "    <tr>\n",
       "      <th>9999</th>\n",
       "      <td>2</td>\n",
       "      <td>40.0</td>\n",
       "      <td>0</td>\n",
       "      <td>3</td>\n",
       "      <td>1</td>\n",
       "      <td>5</td>\n",
       "      <td>2.26</td>\n",
       "      <td>3</td>\n",
       "      <td>17.0</td>\n",
       "      <td>1</td>\n",
       "      <td>0</td>\n",
       "      <td>1</td>\n",
       "      <td>1</td>\n",
       "      <td>0.000000e+00</td>\n",
       "    </tr>\n",
       "  </tbody>\n",
       "</table>\n",
       "<p>10000 rows × 14 columns</p>\n",
       "</div>"
      ],
      "text/plain": [
       "      profession   age  gender  highestDegree  maritalStatus  noOfKids  \\\n",
       "0              2  39.0       1              3              2         0   \n",
       "1              1  39.0       2              0              1         1   \n",
       "2              0  44.0       0              5              1         5   \n",
       "3              2  39.0       1              1              2         0   \n",
       "4              0  39.0       0              1              3         5   \n",
       "...          ...   ...     ...            ...            ...       ...   \n",
       "9995           4  39.0       0              1              1         5   \n",
       "9996           1  39.0       0              3              1         1   \n",
       "9997           1  58.0       2              4              2         0   \n",
       "9998           1  27.0       0              3              2         0   \n",
       "9999           2  40.0       0              3              1         5   \n",
       "\n",
       "      creditRisk  otherMembership  pastStays1y  blogger  articles  amexCard  \\\n",
       "0           3.18                3         23.0        0         7         1   \n",
       "1           2.07                3         48.0        0         4         1   \n",
       "2           2.81                0         32.0        0         1         0   \n",
       "3           3.46                3          6.0        0        16         1   \n",
       "4           3.21                5         25.0        1         0         0   \n",
       "...          ...              ...          ...      ...       ...       ...   \n",
       "9995        2.55                3         12.0        1         0         0   \n",
       "9996        2.73                3          9.0        0         4         1   \n",
       "9997        3.02                0         48.0        0         5         0   \n",
       "9998        1.50                4         40.0        0         4         0   \n",
       "9999        2.26                3         17.0        1         0         1   \n",
       "\n",
       "      purposeTravel     staySpend  \n",
       "0                 2  1.433148e+03  \n",
       "1                 1  3.837902e+01  \n",
       "2                 1  0.000000e+00  \n",
       "3                 2  0.000000e+00  \n",
       "4                 0  7.644188e+02  \n",
       "...             ...           ...  \n",
       "9995              1  0.000000e+00  \n",
       "9996              2  9.387970e-07  \n",
       "9997              0  3.118682e+02  \n",
       "9998              0  8.269680e-05  \n",
       "9999              1  0.000000e+00  \n",
       "\n",
       "[10000 rows x 14 columns]"
      ]
     },
     "execution_count": 9,
     "metadata": {},
     "output_type": "execute_result"
    }
   ],
   "source": [
    "x_all"
   ]
  },
  {
   "cell_type": "code",
   "execution_count": null,
   "id": "b9683bec",
   "metadata": {},
   "outputs": [],
   "source": []
  }
 ],
 "metadata": {
  "kernelspec": {
   "display_name": "Python 3 (ipykernel)",
   "language": "python",
   "name": "python3"
  },
  "language_info": {
   "codemirror_mode": {
    "name": "ipython",
    "version": 3
   },
   "file_extension": ".py",
   "mimetype": "text/x-python",
   "name": "python",
   "nbconvert_exporter": "python",
   "pygments_lexer": "ipython3",
   "version": "3.9.7"
  }
 },
 "nbformat": 4,
 "nbformat_minor": 5
}
