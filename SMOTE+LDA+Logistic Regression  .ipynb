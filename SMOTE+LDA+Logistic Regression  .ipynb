{
 "cells": [
  {
   "cell_type": "code",
   "execution_count": 1,
   "id": "64cb6116",
   "metadata": {},
   "outputs": [],
   "source": [
    "import pandas as pd\n",
    "import numpy as np\n",
    "import matplotlib.pyplot as plt\n",
    "import seaborn as sns\n",
    "import os\n",
    "import time\n",
    "from sklearn.preprocessing import StandardScaler \n",
    "from sklearn.feature_selection import VarianceThreshold\n",
    "from sklearn.linear_model import Lasso, LogisticRegression\n",
    "from sklearn.feature_selection import SelectFromModel\n",
    "from sklearn.model_selection import train_test_split\n",
    "from sklearn.preprocessing import LabelEncoder, OneHotEncoder\n",
    "from sklearn.metrics import roc_curve\n",
    "from sklearn.metrics import roc_auc_score\n",
    "from sklearn.multiclass import OneVsRestClassifier\n",
    "from sklearn.ensemble import RandomForestClassifier\n",
    "from sklearn.metrics import confusion_matrix, f1_score\n",
    "from imblearn.over_sampling import SMOTE"
   ]
  },
  {
   "cell_type": "code",
   "execution_count": 2,
   "id": "f022533a",
   "metadata": {},
   "outputs": [
    {
     "data": {
      "text/plain": [
       "'/Users/chandanshashwat/Desktop/DataSet'"
      ]
     },
     "execution_count": 2,
     "metadata": {},
     "output_type": "execute_result"
    }
   ],
   "source": [
    "os.getcwd()"
   ]
  },
  {
   "cell_type": "code",
   "execution_count": 3,
   "id": "3187f572",
   "metadata": {},
   "outputs": [],
   "source": [
    "df_original = pd.read_csv('train_data.csv')"
   ]
  },
  {
   "cell_type": "code",
   "execution_count": 4,
   "id": "cb9d9dbf",
   "metadata": {},
   "outputs": [],
   "source": [
    "df = df_original.copy()"
   ]
  },
  {
   "cell_type": "code",
   "execution_count": 5,
   "id": "eb5f2f8a",
   "metadata": {},
   "outputs": [
    {
     "data": {
      "text/html": [
       "<div>\n",
       "<style scoped>\n",
       "    .dataframe tbody tr th:only-of-type {\n",
       "        vertical-align: middle;\n",
       "    }\n",
       "\n",
       "    .dataframe tbody tr th {\n",
       "        vertical-align: top;\n",
       "    }\n",
       "\n",
       "    .dataframe thead th {\n",
       "        text-align: right;\n",
       "    }\n",
       "</style>\n",
       "<table border=\"1\" class=\"dataframe\">\n",
       "  <thead>\n",
       "    <tr style=\"text-align: right;\">\n",
       "      <th></th>\n",
       "      <th>ID</th>\n",
       "      <th>profession</th>\n",
       "      <th>age</th>\n",
       "      <th>gender</th>\n",
       "      <th>highestDegree</th>\n",
       "      <th>maritalStatus</th>\n",
       "      <th>noOfKids</th>\n",
       "      <th>creditRisk</th>\n",
       "      <th>otherMembership</th>\n",
       "      <th>pastStays1y</th>\n",
       "      <th>blogger</th>\n",
       "      <th>articles</th>\n",
       "      <th>amexCard</th>\n",
       "      <th>purposeTravel</th>\n",
       "      <th>staySpend</th>\n",
       "      <th>loyaltyClass</th>\n",
       "    </tr>\n",
       "  </thead>\n",
       "  <tbody>\n",
       "    <tr>\n",
       "      <th>0</th>\n",
       "      <td>0</td>\n",
       "      <td>Public Sector</td>\n",
       "      <td>NaN</td>\n",
       "      <td>Male</td>\n",
       "      <td>High School Equivalent</td>\n",
       "      <td>Single</td>\n",
       "      <td>0.0</td>\n",
       "      <td>3.18</td>\n",
       "      <td>IHG</td>\n",
       "      <td>23.0</td>\n",
       "      <td>No</td>\n",
       "      <td>7</td>\n",
       "      <td>Yes</td>\n",
       "      <td>Medical Tourism</td>\n",
       "      <td>1433.147527</td>\n",
       "      <td>Bronze</td>\n",
       "    </tr>\n",
       "    <tr>\n",
       "      <th>1</th>\n",
       "      <td>1</td>\n",
       "      <td>Private Sector</td>\n",
       "      <td>NaN</td>\n",
       "      <td>NaN</td>\n",
       "      <td>Associate Degree</td>\n",
       "      <td>Married</td>\n",
       "      <td>1.0</td>\n",
       "      <td>2.07</td>\n",
       "      <td>IHG</td>\n",
       "      <td>48.0</td>\n",
       "      <td>No</td>\n",
       "      <td>4</td>\n",
       "      <td>Yes</td>\n",
       "      <td>Leisure Travel</td>\n",
       "      <td>38.379023</td>\n",
       "      <td>Silver</td>\n",
       "    </tr>\n",
       "    <tr>\n",
       "      <th>2</th>\n",
       "      <td>2</td>\n",
       "      <td>Business</td>\n",
       "      <td>44.0</td>\n",
       "      <td>Female</td>\n",
       "      <td>Masters Degree</td>\n",
       "      <td>Married</td>\n",
       "      <td>NaN</td>\n",
       "      <td>2.81</td>\n",
       "      <td>Discovery</td>\n",
       "      <td>32.0</td>\n",
       "      <td>No</td>\n",
       "      <td>1</td>\n",
       "      <td>No</td>\n",
       "      <td>Leisure Travel</td>\n",
       "      <td>0.000000</td>\n",
       "      <td>Bronze</td>\n",
       "    </tr>\n",
       "    <tr>\n",
       "      <th>3</th>\n",
       "      <td>3</td>\n",
       "      <td>Public Sector</td>\n",
       "      <td>NaN</td>\n",
       "      <td>Male</td>\n",
       "      <td>Bachelors Degree</td>\n",
       "      <td>Single</td>\n",
       "      <td>0.0</td>\n",
       "      <td>3.46</td>\n",
       "      <td>IHG</td>\n",
       "      <td>6.0</td>\n",
       "      <td>No</td>\n",
       "      <td>16</td>\n",
       "      <td>Yes</td>\n",
       "      <td>Medical Tourism</td>\n",
       "      <td>0.000000</td>\n",
       "      <td>Bronze</td>\n",
       "    </tr>\n",
       "    <tr>\n",
       "      <th>4</th>\n",
       "      <td>4</td>\n",
       "      <td>Business</td>\n",
       "      <td>NaN</td>\n",
       "      <td>Female</td>\n",
       "      <td>Bachelors Degree</td>\n",
       "      <td>Widowed</td>\n",
       "      <td>NaN</td>\n",
       "      <td>3.21</td>\n",
       "      <td>Marriott</td>\n",
       "      <td>NaN</td>\n",
       "      <td>Yes</td>\n",
       "      <td>0</td>\n",
       "      <td>No</td>\n",
       "      <td>Business</td>\n",
       "      <td>764.418767</td>\n",
       "      <td>Silver</td>\n",
       "    </tr>\n",
       "  </tbody>\n",
       "</table>\n",
       "</div>"
      ],
      "text/plain": [
       "   ID      profession   age  gender           highestDegree maritalStatus  \\\n",
       "0   0   Public Sector   NaN    Male  High School Equivalent        Single   \n",
       "1   1  Private Sector   NaN     NaN        Associate Degree       Married   \n",
       "2   2        Business  44.0  Female          Masters Degree       Married   \n",
       "3   3   Public Sector   NaN    Male        Bachelors Degree        Single   \n",
       "4   4        Business   NaN  Female        Bachelors Degree       Widowed   \n",
       "\n",
       "   noOfKids  creditRisk otherMembership  pastStays1y blogger  articles  \\\n",
       "0       0.0        3.18             IHG         23.0      No         7   \n",
       "1       1.0        2.07             IHG         48.0      No         4   \n",
       "2       NaN        2.81       Discovery         32.0      No         1   \n",
       "3       0.0        3.46             IHG          6.0      No        16   \n",
       "4       NaN        3.21        Marriott          NaN     Yes         0   \n",
       "\n",
       "  amexCard    purposeTravel    staySpend loyaltyClass  \n",
       "0      Yes  Medical Tourism  1433.147527       Bronze  \n",
       "1      Yes   Leisure Travel    38.379023       Silver  \n",
       "2       No   Leisure Travel     0.000000       Bronze  \n",
       "3      Yes  Medical Tourism     0.000000       Bronze  \n",
       "4       No         Business   764.418767       Silver  "
      ]
     },
     "execution_count": 5,
     "metadata": {},
     "output_type": "execute_result"
    }
   ],
   "source": [
    "df.head()"
   ]
  },
  {
   "cell_type": "code",
   "execution_count": 6,
   "id": "1c5dea61",
   "metadata": {},
   "outputs": [
    {
     "data": {
      "text/plain": [
       "(10000, 16)"
      ]
     },
     "execution_count": 6,
     "metadata": {},
     "output_type": "execute_result"
    }
   ],
   "source": [
    "df.shape"
   ]
  },
  {
   "cell_type": "code",
   "execution_count": 7,
   "id": "b0e9dfcf",
   "metadata": {},
   "outputs": [
    {
     "data": {
      "text/plain": [
       "array(['Bronze', 'Silver', 'Gold'], dtype=object)"
      ]
     },
     "execution_count": 7,
     "metadata": {},
     "output_type": "execute_result"
    }
   ],
   "source": [
    "df.loyaltyClass.unique()"
   ]
  },
  {
   "cell_type": "code",
   "execution_count": 8,
   "id": "dd22bcb9",
   "metadata": {},
   "outputs": [
    {
     "data": {
      "text/plain": [
       "Silver    5665\n",
       "Bronze    3998\n",
       "Gold       337\n",
       "Name: loyaltyClass, dtype: int64"
      ]
     },
     "execution_count": 8,
     "metadata": {},
     "output_type": "execute_result"
    }
   ],
   "source": [
    "df.loyaltyClass.value_counts()"
   ]
  },
  {
   "cell_type": "code",
   "execution_count": 9,
   "id": "20cd0ccf",
   "metadata": {},
   "outputs": [
    {
     "data": {
      "text/plain": [
       "ID                    0\n",
       "profession          493\n",
       "age                4178\n",
       "gender             2579\n",
       "highestDegree         0\n",
       "maritalStatus         0\n",
       "noOfKids           4533\n",
       "creditRisk            0\n",
       "otherMembership       0\n",
       "pastStays1y         950\n",
       "blogger               0\n",
       "articles              0\n",
       "amexCard              0\n",
       "purposeTravel         0\n",
       "staySpend             0\n",
       "loyaltyClass          0\n",
       "dtype: int64"
      ]
     },
     "execution_count": 9,
     "metadata": {},
     "output_type": "execute_result"
    }
   ],
   "source": [
    "df.isnull().sum()"
   ]
  },
  {
   "cell_type": "code",
   "execution_count": 10,
   "id": "9c38ece0",
   "metadata": {},
   "outputs": [
    {
     "name": "stdout",
     "output_type": "stream",
     "text": [
      "<class 'pandas.core.frame.DataFrame'>\n",
      "RangeIndex: 10000 entries, 0 to 9999\n",
      "Data columns (total 16 columns):\n",
      " #   Column           Non-Null Count  Dtype  \n",
      "---  ------           --------------  -----  \n",
      " 0   ID               10000 non-null  int64  \n",
      " 1   profession       9507 non-null   object \n",
      " 2   age              5822 non-null   float64\n",
      " 3   gender           7421 non-null   object \n",
      " 4   highestDegree    10000 non-null  object \n",
      " 5   maritalStatus    10000 non-null  object \n",
      " 6   noOfKids         5467 non-null   float64\n",
      " 7   creditRisk       10000 non-null  float64\n",
      " 8   otherMembership  10000 non-null  object \n",
      " 9   pastStays1y      9050 non-null   float64\n",
      " 10  blogger          10000 non-null  object \n",
      " 11  articles         10000 non-null  int64  \n",
      " 12  amexCard         10000 non-null  object \n",
      " 13  purposeTravel    10000 non-null  object \n",
      " 14  staySpend        10000 non-null  float64\n",
      " 15  loyaltyClass     10000 non-null  object \n",
      "dtypes: float64(5), int64(2), object(9)\n",
      "memory usage: 1.2+ MB\n"
     ]
    }
   ],
   "source": [
    "df.info()"
   ]
  },
  {
   "cell_type": "code",
   "execution_count": 11,
   "id": "4df6fd02",
   "metadata": {},
   "outputs": [
    {
     "data": {
      "text/plain": [
       "ID                 10000\n",
       "profession             4\n",
       "age                   43\n",
       "gender                 2\n",
       "highestDegree          8\n",
       "maritalStatus          4\n",
       "noOfKids               5\n",
       "creditRisk           268\n",
       "otherMembership        7\n",
       "pastStays1y           50\n",
       "blogger                2\n",
       "articles              21\n",
       "amexCard               2\n",
       "purposeTravel          3\n",
       "staySpend           5656\n",
       "loyaltyClass           3\n",
       "dtype: int64"
      ]
     },
     "execution_count": 11,
     "metadata": {},
     "output_type": "execute_result"
    }
   ],
   "source": [
    "df.nunique()"
   ]
  },
  {
   "cell_type": "code",
   "execution_count": 12,
   "id": "42d726fa",
   "metadata": {},
   "outputs": [],
   "source": [
    "df = df.drop(columns='ID')"
   ]
  },
  {
   "cell_type": "code",
   "execution_count": 13,
   "id": "e84c69f3",
   "metadata": {},
   "outputs": [],
   "source": [
    "df['age'].fillna(df['age'].median(), inplace=True)\n",
    "df['gender'].fillna(df['gender'].mode(), inplace=True)\n",
    "df['noOfKids'].fillna(df['noOfKids'].median(), inplace=True)\n",
    "df['pastStays1y'].fillna(df['pastStays1y'].median(), inplace=True)"
   ]
  },
  {
   "cell_type": "code",
   "execution_count": 14,
   "id": "55b8254b",
   "metadata": {},
   "outputs": [],
   "source": [
    "df['gender'] = df['gender'].fillna(df['gender'].mode()[0])\n",
    "df['profession'] = df['profession'].fillna(df['profession'].mode()[0])"
   ]
  },
  {
   "cell_type": "code",
   "execution_count": 15,
   "id": "b2228282",
   "metadata": {},
   "outputs": [
    {
     "data": {
      "text/plain": [
       "profession         0\n",
       "age                0\n",
       "gender             0\n",
       "highestDegree      0\n",
       "maritalStatus      0\n",
       "noOfKids           0\n",
       "creditRisk         0\n",
       "otherMembership    0\n",
       "pastStays1y        0\n",
       "blogger            0\n",
       "articles           0\n",
       "amexCard           0\n",
       "purposeTravel      0\n",
       "staySpend          0\n",
       "loyaltyClass       0\n",
       "dtype: int64"
      ]
     },
     "execution_count": 15,
     "metadata": {},
     "output_type": "execute_result"
    }
   ],
   "source": [
    "df.isnull().sum()"
   ]
  },
  {
   "cell_type": "code",
   "execution_count": 16,
   "id": "9259955f",
   "metadata": {},
   "outputs": [
    {
     "data": {
      "text/plain": [
       "1.0    6785\n",
       "0.0    2441\n",
       "3.0     400\n",
       "2.0     198\n",
       "4.0     176\n",
       "Name: noOfKids, dtype: int64"
      ]
     },
     "execution_count": 16,
     "metadata": {},
     "output_type": "execute_result"
    }
   ],
   "source": [
    "df.noOfKids.value_counts()"
   ]
  },
  {
   "cell_type": "code",
   "execution_count": 17,
   "id": "a1358e55",
   "metadata": {},
   "outputs": [
    {
     "data": {
      "text/plain": [
       "profession            0\n",
       "age                   0\n",
       "gender                0\n",
       "highestDegree         0\n",
       "maritalStatus         0\n",
       "noOfKids           2441\n",
       "creditRisk            0\n",
       "otherMembership       0\n",
       "pastStays1y         162\n",
       "blogger               0\n",
       "articles           2982\n",
       "amexCard              0\n",
       "purposeTravel         0\n",
       "staySpend          4345\n",
       "loyaltyClass          0\n",
       "dtype: int64"
      ]
     },
     "execution_count": 17,
     "metadata": {},
     "output_type": "execute_result"
    }
   ],
   "source": [
    "df[df == 0].count()"
   ]
  },
  {
   "cell_type": "code",
   "execution_count": 18,
   "id": "4f1beab7",
   "metadata": {},
   "outputs": [
    {
     "data": {
      "text/html": [
       "<div>\n",
       "<style scoped>\n",
       "    .dataframe tbody tr th:only-of-type {\n",
       "        vertical-align: middle;\n",
       "    }\n",
       "\n",
       "    .dataframe tbody tr th {\n",
       "        vertical-align: top;\n",
       "    }\n",
       "\n",
       "    .dataframe thead th {\n",
       "        text-align: right;\n",
       "    }\n",
       "</style>\n",
       "<table border=\"1\" class=\"dataframe\">\n",
       "  <thead>\n",
       "    <tr style=\"text-align: right;\">\n",
       "      <th></th>\n",
       "      <th>age</th>\n",
       "      <th>noOfKids</th>\n",
       "      <th>creditRisk</th>\n",
       "      <th>pastStays1y</th>\n",
       "      <th>articles</th>\n",
       "      <th>staySpend</th>\n",
       "    </tr>\n",
       "  </thead>\n",
       "  <tbody>\n",
       "    <tr>\n",
       "      <th>count</th>\n",
       "      <td>10000.000000</td>\n",
       "      <td>10000.000000</td>\n",
       "      <td>10000.000000</td>\n",
       "      <td>10000.000000</td>\n",
       "      <td>10000.000000</td>\n",
       "      <td>10000.000000</td>\n",
       "    </tr>\n",
       "    <tr>\n",
       "      <th>mean</th>\n",
       "      <td>39.058500</td>\n",
       "      <td>0.908500</td>\n",
       "      <td>2.889681</td>\n",
       "      <td>24.746000</td>\n",
       "      <td>7.407800</td>\n",
       "      <td>1950.964931</td>\n",
       "    </tr>\n",
       "    <tr>\n",
       "      <th>std</th>\n",
       "      <td>9.470029</td>\n",
       "      <td>0.757618</td>\n",
       "      <td>0.492806</td>\n",
       "      <td>13.690713</td>\n",
       "      <td>6.816183</td>\n",
       "      <td>5551.342403</td>\n",
       "    </tr>\n",
       "    <tr>\n",
       "      <th>min</th>\n",
       "      <td>18.000000</td>\n",
       "      <td>0.000000</td>\n",
       "      <td>1.000000</td>\n",
       "      <td>0.000000</td>\n",
       "      <td>0.000000</td>\n",
       "      <td>0.000000</td>\n",
       "    </tr>\n",
       "    <tr>\n",
       "      <th>25%</th>\n",
       "      <td>36.000000</td>\n",
       "      <td>1.000000</td>\n",
       "      <td>2.560000</td>\n",
       "      <td>14.000000</td>\n",
       "      <td>0.000000</td>\n",
       "      <td>0.000000</td>\n",
       "    </tr>\n",
       "    <tr>\n",
       "      <th>50%</th>\n",
       "      <td>39.000000</td>\n",
       "      <td>1.000000</td>\n",
       "      <td>2.890000</td>\n",
       "      <td>25.000000</td>\n",
       "      <td>6.000000</td>\n",
       "      <td>0.267470</td>\n",
       "    </tr>\n",
       "    <tr>\n",
       "      <th>75%</th>\n",
       "      <td>42.000000</td>\n",
       "      <td>1.000000</td>\n",
       "      <td>3.230000</td>\n",
       "      <td>36.000000</td>\n",
       "      <td>13.000000</td>\n",
       "      <td>781.467816</td>\n",
       "    </tr>\n",
       "    <tr>\n",
       "      <th>max</th>\n",
       "      <td>60.000000</td>\n",
       "      <td>4.000000</td>\n",
       "      <td>4.000000</td>\n",
       "      <td>49.000000</td>\n",
       "      <td>20.000000</td>\n",
       "      <td>75553.558890</td>\n",
       "    </tr>\n",
       "  </tbody>\n",
       "</table>\n",
       "</div>"
      ],
      "text/plain": [
       "                age      noOfKids    creditRisk   pastStays1y      articles  \\\n",
       "count  10000.000000  10000.000000  10000.000000  10000.000000  10000.000000   \n",
       "mean      39.058500      0.908500      2.889681     24.746000      7.407800   \n",
       "std        9.470029      0.757618      0.492806     13.690713      6.816183   \n",
       "min       18.000000      0.000000      1.000000      0.000000      0.000000   \n",
       "25%       36.000000      1.000000      2.560000     14.000000      0.000000   \n",
       "50%       39.000000      1.000000      2.890000     25.000000      6.000000   \n",
       "75%       42.000000      1.000000      3.230000     36.000000     13.000000   \n",
       "max       60.000000      4.000000      4.000000     49.000000     20.000000   \n",
       "\n",
       "          staySpend  \n",
       "count  10000.000000  \n",
       "mean    1950.964931  \n",
       "std     5551.342403  \n",
       "min        0.000000  \n",
       "25%        0.000000  \n",
       "50%        0.267470  \n",
       "75%      781.467816  \n",
       "max    75553.558890  "
      ]
     },
     "execution_count": 18,
     "metadata": {},
     "output_type": "execute_result"
    }
   ],
   "source": [
    "df.describe()"
   ]
  },
  {
   "cell_type": "code",
   "execution_count": 19,
   "id": "fdfff45a",
   "metadata": {},
   "outputs": [
    {
     "data": {
      "text/plain": [
       "0.2674697065"
      ]
     },
     "execution_count": 19,
     "metadata": {},
     "output_type": "execute_result"
    }
   ],
   "source": [
    "#as we can see the half of the day spend value is 0\n",
    "df.staySpend.median()"
   ]
  },
  {
   "cell_type": "code",
   "execution_count": 20,
   "id": "7399ac5b",
   "metadata": {},
   "outputs": [
    {
     "name": "stdout",
     "output_type": "stream",
     "text": [
      "1950.9649312348436\n"
     ]
    }
   ],
   "source": [
    "staySpend_mean = df['staySpend'].mean(skipna=True)\n",
    "print(staySpend_mean)\n",
    "df['staySpend']=df['staySpend'].replace(0,staySpend_mean) "
   ]
  },
  {
   "cell_type": "code",
   "execution_count": 21,
   "id": "432fc96f",
   "metadata": {},
   "outputs": [
    {
     "data": {
      "text/plain": [
       "Text(0, 0.5, 'staySpend')"
      ]
     },
     "execution_count": 21,
     "metadata": {},
     "output_type": "execute_result"
    },
    {
     "data": {
      "image/png": "[encoded data removed]",
      "text/plain": [
       "<Figure size 1080x720 with 3 Axes>"
      ]
     },
     "metadata": {
      "needs_background": "light"
     },
     "output_type": "display_data"
    }
   ],
   "source": [
    "plt.figure(figsize=(15,10))\n",
    "\n",
    "\n",
    "plt.subplot(2, 2, 1)\n",
    "fig = df.boxplot(column='age')\n",
    "fig.set_title('')\n",
    "fig.set_ylabel('age')\n",
    "\n",
    "plt.subplot(2, 2, 2)\n",
    "fig = df.boxplot(column='creditRisk')\n",
    "fig.set_title('')\n",
    "fig.set_ylabel('creditRisk')\n",
    "\n",
    "\n",
    "plt.subplot(2, 2, 3)\n",
    "fig = df.boxplot(column='staySpend')\n",
    "fig.set_title('')\n",
    "fig.set_ylabel('staySpend')"
   ]
  },
  {
   "cell_type": "code",
   "execution_count": 22,
   "id": "8e85ed40",
   "metadata": {},
   "outputs": [
    {
     "data": {
      "text/plain": [
       "Text(0.5, 0, 'staySpend')"
      ]
     },
     "execution_count": 22,
     "metadata": {},
     "output_type": "execute_result"
    },
    {
     "data": {
      "image/png": "[encoded data removed]",
      "text/plain": [
       "<Figure size 1080x720 with 3 Axes>"
      ]
     },
     "metadata": {
      "needs_background": "light"
     },
     "output_type": "display_data"
    }
   ],
   "source": [
    "plt.figure(figsize=(15,10))\n",
    "plt.subplot(2, 2, 1)\n",
    "fig = df.age.hist(bins=10)\n",
    "fig.set_xlabel('age')\n",
    "\n",
    "plt.subplot(2, 2, 2)\n",
    "fig = df.creditRisk.hist(bins=10)\n",
    "fig.set_xlabel('creditRisk')\n",
    "\n",
    "plt.subplot(2, 2, 3)\n",
    "fig = df.staySpend.hist(bins=10)\n",
    "fig.set_xlabel('staySpend')"
   ]
  },
  {
   "cell_type": "code",
   "execution_count": 23,
   "id": "2756f211",
   "metadata": {},
   "outputs": [
    {
     "name": "stdout",
     "output_type": "stream",
     "text": [
      "Int64Index([  42,   85,  111,  172,  207,  210,  230,  267,  276,  283,\n",
      "            ...\n",
      "            9740, 9753, 9813, 9814, 9826, 9861, 9869, 9927, 9958, 9977],\n",
      "           dtype='int64', length=364)\n"
     ]
    }
   ],
   "source": [
    "Q1 = df['staySpend'].quantile(0.10)\n",
    "Q3 = df['staySpend'].quantile(0.90)\n",
    "IQR = Q3 - Q1\n",
    "whisker_width = 1.5\n",
    "lower_whisker = Q1 - (whisker_width*IQR)\n",
    "upper_whisker = Q3 + (whisker_width*IQR)\n",
    "index=df['staySpend'][(df['staySpend']>upper_whisker)|(df['staySpend']<lower_whisker)].index\n",
    "print(index)"
   ]
  },
  {
   "cell_type": "code",
   "execution_count": 24,
   "id": "53143509",
   "metadata": {},
   "outputs": [],
   "source": [
    "df.loc[index,'staySpend'] = df.staySpend.median()f"
   ]
  },
  {
   "cell_type": "code",
   "execution_count": 25,
   "id": "749b01b7",
   "metadata": {},
   "outputs": [],
   "source": [
    "Q1 = df['creditRisk'].quantile(0.10)\n",
    "Q3 = df['creditRisk'].quantile(0.90)\n",
    "IQR = Q3 - Q1\n",
    "whisker_width = 1.5\n",
    "lower_whisker = Q1 - (whisker_width*IQR)\n",
    "upper_whisker = Q3 + (whisker_width*IQR)\n",
    "index=df['creditRisk'][(df['creditRisk']>upper_whisker)|(df['creditRisk']<lower_whisker)].index"
   ]
  },
  {
   "cell_type": "code",
   "execution_count": 26,
   "id": "6fcbdb6a",
   "metadata": {},
   "outputs": [
    {
     "name": "stdout",
     "output_type": "stream",
     "text": [
      "Int64Index([], dtype='int64')\n"
     ]
    }
   ],
   "source": [
    "Q1 = df['age'].quantile(0.10)\n",
    "Q3 = df['age'].quantile(0.90)\n",
    "IQR = Q3 - Q1\n",
    "whisker_width = 1.5\n",
    "lower_whisker = Q1 - (whisker_width*IQR)\n",
    "upper_whisker = Q3 + (whisker_width*IQR)\n",
    "index=df['age'][(df['age']>upper_whisker)|(df['age']<lower_whisker)].index\n",
    "print(index)"
   ]
  },
  {
   "cell_type": "code",
   "execution_count": 27,
   "id": "a1fbde1c",
   "metadata": {},
   "outputs": [
    {
     "data": {
      "text/plain": [
       "Text(0.5, 0, 'staySpend')"
      ]
     },
     "execution_count": 27,
     "metadata": {},
     "output_type": "execute_result"
    },
    {
     "data": {
      "image/png": "[encoded data removed]",
      "text/plain": [
       "<Figure size 432x288 with 1 Axes>"
      ]
     },
     "metadata": {
      "needs_background": "light"
     },
     "output_type": "display_data"
    }
   ],
   "source": [
    "fig = df.staySpend.hist(bins=10)\n",
    "fig.set_xlabel('staySpend')"
   ]
  },
  {
   "cell_type": "code",
   "execution_count": 28,
   "id": "43c23c20",
   "metadata": {},
   "outputs": [],
   "source": [
    "# features = [\"staySpend\"]\n",
    "# autoscaler = StandardScaler()\n",
    "# df[features] = autoscaler.fit_transform(df[features])"
   ]
  },
  {
   "cell_type": "code",
   "execution_count": 29,
   "id": "be5f89c5",
   "metadata": {},
   "outputs": [
    {
     "data": {
      "text/html": [
       "<div>\n",
       "<style scoped>\n",
       "    .dataframe tbody tr th:only-of-type {\n",
       "        vertical-align: middle;\n",
       "    }\n",
       "\n",
       "    .dataframe tbody tr th {\n",
       "        vertical-align: top;\n",
       "    }\n",
       "\n",
       "    .dataframe thead th {\n",
       "        text-align: right;\n",
       "    }\n",
       "</style>\n",
       "<table border=\"1\" class=\"dataframe\">\n",
       "  <thead>\n",
       "    <tr style=\"text-align: right;\">\n",
       "      <th></th>\n",
       "      <th>profession</th>\n",
       "      <th>age</th>\n",
       "      <th>gender</th>\n",
       "      <th>highestDegree</th>\n",
       "      <th>maritalStatus</th>\n",
       "      <th>noOfKids</th>\n",
       "      <th>creditRisk</th>\n",
       "      <th>otherMembership</th>\n",
       "      <th>pastStays1y</th>\n",
       "      <th>blogger</th>\n",
       "      <th>articles</th>\n",
       "      <th>amexCard</th>\n",
       "      <th>purposeTravel</th>\n",
       "      <th>staySpend</th>\n",
       "      <th>loyaltyClass</th>\n",
       "    </tr>\n",
       "  </thead>\n",
       "  <tbody>\n",
       "    <tr>\n",
       "      <th>0</th>\n",
       "      <td>Public Sector</td>\n",
       "      <td>39.0</td>\n",
       "      <td>Male</td>\n",
       "      <td>High School Equivalent</td>\n",
       "      <td>Single</td>\n",
       "      <td>0.0</td>\n",
       "      <td>3.18</td>\n",
       "      <td>IHG</td>\n",
       "      <td>23.0</td>\n",
       "      <td>No</td>\n",
       "      <td>7</td>\n",
       "      <td>Yes</td>\n",
       "      <td>Medical Tourism</td>\n",
       "      <td>1.433148e+03</td>\n",
       "      <td>Bronze</td>\n",
       "    </tr>\n",
       "    <tr>\n",
       "      <th>1</th>\n",
       "      <td>Private Sector</td>\n",
       "      <td>39.0</td>\n",
       "      <td>Female</td>\n",
       "      <td>Associate Degree</td>\n",
       "      <td>Married</td>\n",
       "      <td>1.0</td>\n",
       "      <td>2.07</td>\n",
       "      <td>IHG</td>\n",
       "      <td>48.0</td>\n",
       "      <td>No</td>\n",
       "      <td>4</td>\n",
       "      <td>Yes</td>\n",
       "      <td>Leisure Travel</td>\n",
       "      <td>3.837902e+01</td>\n",
       "      <td>Silver</td>\n",
       "    </tr>\n",
       "    <tr>\n",
       "      <th>2</th>\n",
       "      <td>Business</td>\n",
       "      <td>44.0</td>\n",
       "      <td>Female</td>\n",
       "      <td>Masters Degree</td>\n",
       "      <td>Married</td>\n",
       "      <td>1.0</td>\n",
       "      <td>2.81</td>\n",
       "      <td>Discovery</td>\n",
       "      <td>32.0</td>\n",
       "      <td>No</td>\n",
       "      <td>1</td>\n",
       "      <td>No</td>\n",
       "      <td>Leisure Travel</td>\n",
       "      <td>1.950965e+03</td>\n",
       "      <td>Bronze</td>\n",
       "    </tr>\n",
       "    <tr>\n",
       "      <th>3</th>\n",
       "      <td>Public Sector</td>\n",
       "      <td>39.0</td>\n",
       "      <td>Male</td>\n",
       "      <td>Bachelors Degree</td>\n",
       "      <td>Single</td>\n",
       "      <td>0.0</td>\n",
       "      <td>3.46</td>\n",
       "      <td>IHG</td>\n",
       "      <td>6.0</td>\n",
       "      <td>No</td>\n",
       "      <td>16</td>\n",
       "      <td>Yes</td>\n",
       "      <td>Medical Tourism</td>\n",
       "      <td>1.950965e+03</td>\n",
       "      <td>Bronze</td>\n",
       "    </tr>\n",
       "    <tr>\n",
       "      <th>4</th>\n",
       "      <td>Business</td>\n",
       "      <td>39.0</td>\n",
       "      <td>Female</td>\n",
       "      <td>Bachelors Degree</td>\n",
       "      <td>Widowed</td>\n",
       "      <td>1.0</td>\n",
       "      <td>3.21</td>\n",
       "      <td>Marriott</td>\n",
       "      <td>25.0</td>\n",
       "      <td>Yes</td>\n",
       "      <td>0</td>\n",
       "      <td>No</td>\n",
       "      <td>Business</td>\n",
       "      <td>7.644188e+02</td>\n",
       "      <td>Silver</td>\n",
       "    </tr>\n",
       "    <tr>\n",
       "      <th>...</th>\n",
       "      <td>...</td>\n",
       "      <td>...</td>\n",
       "      <td>...</td>\n",
       "      <td>...</td>\n",
       "      <td>...</td>\n",
       "      <td>...</td>\n",
       "      <td>...</td>\n",
       "      <td>...</td>\n",
       "      <td>...</td>\n",
       "      <td>...</td>\n",
       "      <td>...</td>\n",
       "      <td>...</td>\n",
       "      <td>...</td>\n",
       "      <td>...</td>\n",
       "      <td>...</td>\n",
       "    </tr>\n",
       "    <tr>\n",
       "      <th>9995</th>\n",
       "      <td>Private Sector</td>\n",
       "      <td>39.0</td>\n",
       "      <td>Female</td>\n",
       "      <td>Bachelors Degree</td>\n",
       "      <td>Married</td>\n",
       "      <td>1.0</td>\n",
       "      <td>2.55</td>\n",
       "      <td>IHG</td>\n",
       "      <td>12.0</td>\n",
       "      <td>Yes</td>\n",
       "      <td>0</td>\n",
       "      <td>No</td>\n",
       "      <td>Leisure Travel</td>\n",
       "      <td>1.950965e+03</td>\n",
       "      <td>Silver</td>\n",
       "    </tr>\n",
       "    <tr>\n",
       "      <th>9996</th>\n",
       "      <td>Private Sector</td>\n",
       "      <td>39.0</td>\n",
       "      <td>Female</td>\n",
       "      <td>High School Equivalent</td>\n",
       "      <td>Married</td>\n",
       "      <td>1.0</td>\n",
       "      <td>2.73</td>\n",
       "      <td>IHG</td>\n",
       "      <td>9.0</td>\n",
       "      <td>No</td>\n",
       "      <td>4</td>\n",
       "      <td>Yes</td>\n",
       "      <td>Medical Tourism</td>\n",
       "      <td>9.387970e-07</td>\n",
       "      <td>Silver</td>\n",
       "    </tr>\n",
       "    <tr>\n",
       "      <th>9997</th>\n",
       "      <td>Private Sector</td>\n",
       "      <td>58.0</td>\n",
       "      <td>Female</td>\n",
       "      <td>MBA</td>\n",
       "      <td>Single</td>\n",
       "      <td>0.0</td>\n",
       "      <td>3.02</td>\n",
       "      <td>Discovery</td>\n",
       "      <td>48.0</td>\n",
       "      <td>No</td>\n",
       "      <td>5</td>\n",
       "      <td>No</td>\n",
       "      <td>Business</td>\n",
       "      <td>3.118682e+02</td>\n",
       "      <td>Bronze</td>\n",
       "    </tr>\n",
       "    <tr>\n",
       "      <th>9998</th>\n",
       "      <td>Private Sector</td>\n",
       "      <td>27.0</td>\n",
       "      <td>Female</td>\n",
       "      <td>High School Equivalent</td>\n",
       "      <td>Single</td>\n",
       "      <td>0.0</td>\n",
       "      <td>1.50</td>\n",
       "      <td>Jumeirah</td>\n",
       "      <td>40.0</td>\n",
       "      <td>No</td>\n",
       "      <td>4</td>\n",
       "      <td>No</td>\n",
       "      <td>Business</td>\n",
       "      <td>8.269680e-05</td>\n",
       "      <td>Silver</td>\n",
       "    </tr>\n",
       "    <tr>\n",
       "      <th>9999</th>\n",
       "      <td>Public Sector</td>\n",
       "      <td>40.0</td>\n",
       "      <td>Female</td>\n",
       "      <td>High School Equivalent</td>\n",
       "      <td>Married</td>\n",
       "      <td>1.0</td>\n",
       "      <td>2.26</td>\n",
       "      <td>IHG</td>\n",
       "      <td>17.0</td>\n",
       "      <td>Yes</td>\n",
       "      <td>0</td>\n",
       "      <td>Yes</td>\n",
       "      <td>Leisure Travel</td>\n",
       "      <td>1.950965e+03</td>\n",
       "      <td>Silver</td>\n",
       "    </tr>\n",
       "  </tbody>\n",
       "</table>\n",
       "<p>10000 rows × 15 columns</p>\n",
       "</div>"
      ],
      "text/plain": [
       "          profession   age  gender           highestDegree maritalStatus  \\\n",
       "0      Public Sector  39.0    Male  High School Equivalent        Single   \n",
       "1     Private Sector  39.0  Female        Associate Degree       Married   \n",
       "2           Business  44.0  Female          Masters Degree       Married   \n",
       "3      Public Sector  39.0    Male        Bachelors Degree        Single   \n",
       "4           Business  39.0  Female        Bachelors Degree       Widowed   \n",
       "...              ...   ...     ...                     ...           ...   \n",
       "9995  Private Sector  39.0  Female        Bachelors Degree       Married   \n",
       "9996  Private Sector  39.0  Female  High School Equivalent       Married   \n",
       "9997  Private Sector  58.0  Female                     MBA        Single   \n",
       "9998  Private Sector  27.0  Female  High School Equivalent        Single   \n",
       "9999   Public Sector  40.0  Female  High School Equivalent       Married   \n",
       "\n",
       "      noOfKids  creditRisk otherMembership  pastStays1y blogger  articles  \\\n",
       "0          0.0        3.18             IHG         23.0      No         7   \n",
       "1          1.0        2.07             IHG         48.0      No         4   \n",
       "2          1.0        2.81       Discovery         32.0      No         1   \n",
       "3          0.0        3.46             IHG          6.0      No        16   \n",
       "4          1.0        3.21        Marriott         25.0     Yes         0   \n",
       "...        ...         ...             ...          ...     ...       ...   \n",
       "9995       1.0        2.55             IHG         12.0     Yes         0   \n",
       "9996       1.0        2.73             IHG          9.0      No         4   \n",
       "9997       0.0        3.02       Discovery         48.0      No         5   \n",
       "9998       0.0        1.50        Jumeirah         40.0      No         4   \n",
       "9999       1.0        2.26             IHG         17.0     Yes         0   \n",
       "\n",
       "     amexCard    purposeTravel     staySpend loyaltyClass  \n",
       "0         Yes  Medical Tourism  1.433148e+03       Bronze  \n",
       "1         Yes   Leisure Travel  3.837902e+01       Silver  \n",
       "2          No   Leisure Travel  1.950965e+03       Bronze  \n",
       "3         Yes  Medical Tourism  1.950965e+03       Bronze  \n",
       "4          No         Business  7.644188e+02       Silver  \n",
       "...       ...              ...           ...          ...  \n",
       "9995       No   Leisure Travel  1.950965e+03       Silver  \n",
       "9996      Yes  Medical Tourism  9.387970e-07       Silver  \n",
       "9997       No         Business  3.118682e+02       Bronze  \n",
       "9998       No         Business  8.269680e-05       Silver  \n",
       "9999      Yes   Leisure Travel  1.950965e+03       Silver  \n",
       "\n",
       "[10000 rows x 15 columns]"
      ]
     },
     "execution_count": 29,
     "metadata": {},
     "output_type": "execute_result"
    }
   ],
   "source": [
    "df"
   ]
  },
  {
   "cell_type": "code",
   "execution_count": 30,
   "id": "dcdd9c69",
   "metadata": {},
   "outputs": [
    {
     "data": {
      "text/html": [
       "<style type=\"text/css\">\n",
       "#T_0dc99_row0_col0, #T_0dc99_row1_col1, #T_0dc99_row2_col2, #T_0dc99_row3_col3, #T_0dc99_row4_col4, #T_0dc99_row5_col5 {\n",
       "  background-color: #b40426;\n",
       "  color: #f1f1f1;\n",
       "}\n",
       "#T_0dc99_row0_col1, #T_0dc99_row0_col2, #T_0dc99_row0_col4, #T_0dc99_row1_col0, #T_0dc99_row1_col5, #T_0dc99_row3_col5, #T_0dc99_row4_col0, #T_0dc99_row4_col2, #T_0dc99_row5_col3 {\n",
       "  background-color: #3b4cc0;\n",
       "  color: #f1f1f1;\n",
       "}\n",
       "#T_0dc99_row0_col3, #T_0dc99_row2_col1, #T_0dc99_row2_col3, #T_0dc99_row4_col5 {\n",
       "  background-color: #3e51c5;\n",
       "  color: #f1f1f1;\n",
       "}\n",
       "#T_0dc99_row0_col5, #T_0dc99_row1_col3, #T_0dc99_row1_col4, #T_0dc99_row5_col4 {\n",
       "  background-color: #3f53c6;\n",
       "  color: #f1f1f1;\n",
       "}\n",
       "#T_0dc99_row1_col2, #T_0dc99_row4_col3 {\n",
       "  background-color: #3c4ec2;\n",
       "  color: #f1f1f1;\n",
       "}\n",
       "#T_0dc99_row2_col0, #T_0dc99_row2_col4, #T_0dc99_row3_col2, #T_0dc99_row3_col4, #T_0dc99_row5_col1 {\n",
       "  background-color: #3d50c3;\n",
       "  color: #f1f1f1;\n",
       "}\n",
       "#T_0dc99_row2_col5, #T_0dc99_row3_col0, #T_0dc99_row4_col1, #T_0dc99_row5_col2 {\n",
       "  background-color: #4055c8;\n",
       "  color: #f1f1f1;\n",
       "}\n",
       "#T_0dc99_row3_col1, #T_0dc99_row5_col0 {\n",
       "  background-color: #4257c9;\n",
       "  color: #f1f1f1;\n",
       "}\n",
       "</style>\n",
       "<table id=\"T_0dc99_\">\n",
       "  <thead>\n",
       "    <tr>\n",
       "      <th class=\"blank level0\" >&nbsp;</th>\n",
       "      <th class=\"col_heading level0 col0\" >age</th>\n",
       "      <th class=\"col_heading level0 col1\" >noOfKids</th>\n",
       "      <th class=\"col_heading level0 col2\" >creditRisk</th>\n",
       "      <th class=\"col_heading level0 col3\" >pastStays1y</th>\n",
       "      <th class=\"col_heading level0 col4\" >articles</th>\n",
       "      <th class=\"col_heading level0 col5\" >staySpend</th>\n",
       "    </tr>\n",
       "  </thead>\n",
       "  <tbody>\n",
       "    <tr>\n",
       "      <th id=\"T_0dc99_level0_row0\" class=\"row_heading level0 row0\" >age</th>\n",
       "      <td id=\"T_0dc99_row0_col0\" class=\"data row0 col0\" >1.000000</td>\n",
       "      <td id=\"T_0dc99_row0_col1\" class=\"data row0 col1\" >-0.017737</td>\n",
       "      <td id=\"T_0dc99_row0_col2\" class=\"data row0 col2\" >-0.009268</td>\n",
       "      <td id=\"T_0dc99_row0_col3\" class=\"data row0 col3\" >0.002849</td>\n",
       "      <td id=\"T_0dc99_row0_col4\" class=\"data row0 col4\" >-0.015752</td>\n",
       "      <td id=\"T_0dc99_row0_col5\" class=\"data row0 col5\" >0.008213</td>\n",
       "    </tr>\n",
       "    <tr>\n",
       "      <th id=\"T_0dc99_level0_row1\" class=\"row_heading level0 row1\" >noOfKids</th>\n",
       "      <td id=\"T_0dc99_row1_col0\" class=\"data row1 col0\" >-0.017737</td>\n",
       "      <td id=\"T_0dc99_row1_col1\" class=\"data row1 col1\" >1.000000</td>\n",
       "      <td id=\"T_0dc99_row1_col2\" class=\"data row1 col2\" >-0.003528</td>\n",
       "      <td id=\"T_0dc99_row1_col3\" class=\"data row1 col3\" >0.006745</td>\n",
       "      <td id=\"T_0dc99_row1_col4\" class=\"data row1 col4\" >0.002385</td>\n",
       "      <td id=\"T_0dc99_row1_col5\" class=\"data row1 col5\" >-0.008729</td>\n",
       "    </tr>\n",
       "    <tr>\n",
       "      <th id=\"T_0dc99_level0_row2\" class=\"row_heading level0 row2\" >creditRisk</th>\n",
       "      <td id=\"T_0dc99_row2_col0\" class=\"data row2 col0\" >-0.009268</td>\n",
       "      <td id=\"T_0dc99_row2_col1\" class=\"data row2 col1\" >-0.003528</td>\n",
       "      <td id=\"T_0dc99_row2_col2\" class=\"data row2 col2\" >1.000000</td>\n",
       "      <td id=\"T_0dc99_row2_col3\" class=\"data row2 col3\" >0.002420</td>\n",
       "      <td id=\"T_0dc99_row2_col4\" class=\"data row2 col4\" >-0.006851</td>\n",
       "      <td id=\"T_0dc99_row2_col5\" class=\"data row2 col5\" >0.010454</td>\n",
       "    </tr>\n",
       "    <tr>\n",
       "      <th id=\"T_0dc99_level0_row3\" class=\"row_heading level0 row3\" >pastStays1y</th>\n",
       "      <td id=\"T_0dc99_row3_col0\" class=\"data row3 col0\" >0.002849</td>\n",
       "      <td id=\"T_0dc99_row3_col1\" class=\"data row3 col1\" >0.006745</td>\n",
       "      <td id=\"T_0dc99_row3_col2\" class=\"data row3 col2\" >0.002420</td>\n",
       "      <td id=\"T_0dc99_row3_col3\" class=\"data row3 col3\" >1.000000</td>\n",
       "      <td id=\"T_0dc99_row3_col4\" class=\"data row3 col4\" >-0.005491</td>\n",
       "      <td id=\"T_0dc99_row3_col5\" class=\"data row3 col5\" >-0.010908</td>\n",
       "    </tr>\n",
       "    <tr>\n",
       "      <th id=\"T_0dc99_level0_row4\" class=\"row_heading level0 row4\" >articles</th>\n",
       "      <td id=\"T_0dc99_row4_col0\" class=\"data row4 col0\" >-0.015752</td>\n",
       "      <td id=\"T_0dc99_row4_col1\" class=\"data row4 col1\" >0.002385</td>\n",
       "      <td id=\"T_0dc99_row4_col2\" class=\"data row4 col2\" >-0.006851</td>\n",
       "      <td id=\"T_0dc99_row4_col3\" class=\"data row4 col3\" >-0.005491</td>\n",
       "      <td id=\"T_0dc99_row4_col4\" class=\"data row4 col4\" >1.000000</td>\n",
       "      <td id=\"T_0dc99_row4_col5\" class=\"data row4 col5\" >0.003064</td>\n",
       "    </tr>\n",
       "    <tr>\n",
       "      <th id=\"T_0dc99_level0_row5\" class=\"row_heading level0 row5\" >staySpend</th>\n",
       "      <td id=\"T_0dc99_row5_col0\" class=\"data row5 col0\" >0.008213</td>\n",
       "      <td id=\"T_0dc99_row5_col1\" class=\"data row5 col1\" >-0.008729</td>\n",
       "      <td id=\"T_0dc99_row5_col2\" class=\"data row5 col2\" >0.010454</td>\n",
       "      <td id=\"T_0dc99_row5_col3\" class=\"data row5 col3\" >-0.010908</td>\n",
       "      <td id=\"T_0dc99_row5_col4\" class=\"data row5 col4\" >0.003064</td>\n",
       "      <td id=\"T_0dc99_row5_col5\" class=\"data row5 col5\" >1.000000</td>\n",
       "    </tr>\n",
       "  </tbody>\n",
       "</table>\n"
      ],
      "text/plain": [
       "<pandas.io.formats.style.Styler at 0x7fd2483e3c70>"
      ]
     },
     "execution_count": 30,
     "metadata": {},
     "output_type": "execute_result"
    }
   ],
   "source": [
    "#Correlation \n",
    "corr = df.corr()\n",
    "corr.style.background_gradient(cmap='coolwarm')"
   ]
  },
  {
   "cell_type": "code",
   "execution_count": 31,
   "id": "d22ded3c",
   "metadata": {},
   "outputs": [
    {
     "name": "stdout",
     "output_type": "stream",
     "text": [
      "The P-Value of the ChiSq Test is: 0.5100090416739632\n"
     ]
    }
   ],
   "source": [
    "# H0: The variables are not correlated with each other.\n",
    "from scipy.stats import chi2_contingency\n",
    "CrosstabResult=pd.crosstab(index=df['age'],columns=df['gender'])\n",
    "ChiSqResult = chi2_contingency(CrosstabResult)\n",
    "print('The P-Value of the ChiSq Test is:', ChiSqResult[1])"
   ]
  },
  {
   "cell_type": "markdown",
   "id": "ff5e3449",
   "metadata": {},
   "source": [
    "In the above example, the P-value came higher than 0.05. Hence H0 will be accepted. Which means the variables are not correlated with each other."
   ]
  },
  {
   "cell_type": "code",
   "execution_count": 32,
   "id": "36c748dd",
   "metadata": {},
   "outputs": [
    {
     "name": "stdout",
     "output_type": "stream",
     "text": [
      "            Column                      Hypothesis\n",
      "0           gender  Fail to Reject Null Hypothesis\n",
      "1    highestDegree  Fail to Reject Null Hypothesis\n",
      "2    maritalStatus  Fail to Reject Null Hypothesis\n",
      "3         noOfKids  Fail to Reject Null Hypothesis\n",
      "4  otherMembership  Fail to Reject Null Hypothesis\n",
      "5          blogger  Fail to Reject Null Hypothesis\n",
      "6         articles  Fail to Reject Null Hypothesis\n",
      "7         amexCard  Fail to Reject Null Hypothesis\n",
      "8    purposeTravel  Fail to Reject Null Hypothesis\n"
     ]
    }
   ],
   "source": [
    "categorical_columns = ['gender', 'highestDegree', 'maritalStatus', 'noOfKids', 'otherMembership', 'blogger', 'articles', 'amexCard', 'purposeTravel']\n",
    "df_categorical = df[['profession', 'gender', 'highestDegree', 'maritalStatus', 'noOfKids', 'otherMembership', 'blogger', 'articles', 'amexCard', 'purposeTravel']]\n",
    "chi2_check = []\n",
    "for i in categorical_columns:\n",
    "    if chi2_contingency(pd.crosstab(df_categorical['profession'], df_categorical[i]))[1] < 0.05:\n",
    "        chi2_check.append('Reject Null Hypothesis')\n",
    "    else:\n",
    "        chi2_check.append('Fail to Reject Null Hypothesis')\n",
    "res = pd.DataFrame(data = [categorical_columns, chi2_check] \n",
    "             ).T \n",
    "res.columns = ['Column', 'Hypothesis']\n",
    "print(res)"
   ]
  },
  {
   "cell_type": "markdown",
   "id": "bc9c1829",
   "metadata": {},
   "source": [
    "#we can see the categorical fetaures are not correlated\n"
   ]
  },
  {
   "cell_type": "code",
   "execution_count": 33,
   "id": "2d06a531",
   "metadata": {},
   "outputs": [
    {
     "data": {
      "text/plain": [
       "array([[   3.18      ,   23.        , 1433.147527  ],\n",
       "       [   2.07      ,   48.        ,   38.37902273]])"
      ]
     },
     "execution_count": 33,
     "metadata": {},
     "output_type": "execute_result"
    }
   ],
   "source": [
    "#Feature selection \n",
    "# 1. low varience check\n",
    "df_continuous = df[['creditRisk', 'pastStays1y', 'staySpend']]\n",
    "sel = VarianceThreshold(threshold=0.1)\n",
    "sel.fit_transform(df_continuous)[:2]"
   ]
  },
  {
   "cell_type": "markdown",
   "id": "1a2b1e3c",
   "metadata": {},
   "source": [
    "no columns are removed so no low varience detected "
   ]
  },
  {
   "cell_type": "code",
   "execution_count": 34,
   "id": "608ee217",
   "metadata": {},
   "outputs": [],
   "source": [
    "# le = LabelEncoder()\n",
    "# df['profession']= le.fit_transform(df['profession'])\n",
    "# df['gender']= le.fit_transform(df['gender'])\n",
    "# df['highestDegree']= le.fit_transform(df['highestDegree'])\n",
    "# df['maritalStatus']= le.fit_transform(df['maritalStatus'])\n",
    "# df['noOfKids']= le.fit_transform(df['noOfKids'])\n",
    "# df['otherMembership']= le.fit_transform(df['otherMembership'])\n",
    "# df['blogger']= le.fit_transform(df['blogger'])\n",
    "# df['articles']= le.fit_transform(df['articles'])\n",
    "# df['amexCard']= le.fit_transform(df['amexCard'])\n",
    "# df['purposeTravel']= le.fit_transform(df['purposeTravel'])\n",
    "\n",
    "\n",
    "\n",
    "prof_df = pd.get_dummies(df.profession, prefix='profession')\n",
    "#df = pd.concat([df, prof_df], axis=1).drop(['profession'], axis=1)\n",
    "\n",
    "gender_df = pd.get_dummies(df.gender, prefix='gender')\n",
    "#df = pd.concat([df, gender_df], axis=1).drop(['gender'], axis=1)\n",
    "\n",
    "highd_df = pd.get_dummies(df.highestDegree, prefix='highestDegree')\n",
    "#df = pd.concat([df, prof_df], axis=1).drop(['highestDegree'], axis=1)\n",
    "\n",
    "maritst_df = pd.get_dummies(df.profession, prefix='maritalStatus')\n",
    "#df = pd.concat([df, prof_df], axis=1).drop(['maritalStatus'], axis=1)\n",
    "\n",
    "nok_df = pd.get_dummies(df.noOfKids, prefix='noOfKids')\n",
    "#df = pd.concat([df, prof_df], axis=1).drop(['noOfKids'], axis=1)\n",
    "om_df = pd.get_dummies(df.otherMembership, prefix='otherMembership')\n",
    "#df = pd.concat([df, prof_df], axis=1).drop(['otherMembership'], axis=1)\n",
    "blogger_df = pd.get_dummies(df.blogger, prefix='blogger')\n",
    "#df = pd.concat([df, prof_df], axis=1).drop(['blogger'], axis=1)\n",
    "article_df = pd.get_dummies(df.articles, prefix='articles')\n",
    "#df = pd.concat([df, prof_df], axis=1).drop(['articles'], axis=1)\n",
    "amxcard_df = pd.get_dummies(df.amexCard, prefix='amexCard')\n",
    "#df = pd.concat([df, prof_df], axis=1).drop(['amexCard'], axis=1)\n",
    "pt_df = pd.get_dummies(df.purposeTravel, prefix='purposeTravel')\n",
    "\n",
    "df = pd.concat([df, prof_df, gender_df, highd_df, maritst_df, nok_df, om_df, blogger_df, article_df, \n",
    "                amxcard_df, pt_df ], axis=1).drop(['profession','gender', 'highestDegree', 'maritalStatus', \n",
    "                                                   'noOfKids', 'otherMembership', 'blogger', 'purposeTravel',\n",
    "                                                  'articles', 'amexCard' ], axis=1)"
   ]
  },
  {
   "cell_type": "code",
   "execution_count": 35,
   "id": "c61d264e",
   "metadata": {},
   "outputs": [
    {
     "data": {
      "text/html": [
       "<div>\n",
       "<style scoped>\n",
       "    .dataframe tbody tr th:only-of-type {\n",
       "        vertical-align: middle;\n",
       "    }\n",
       "\n",
       "    .dataframe tbody tr th {\n",
       "        vertical-align: top;\n",
       "    }\n",
       "\n",
       "    .dataframe thead th {\n",
       "        text-align: right;\n",
       "    }\n",
       "</style>\n",
       "<table border=\"1\" class=\"dataframe\">\n",
       "  <thead>\n",
       "    <tr style=\"text-align: right;\">\n",
       "      <th></th>\n",
       "      <th>age</th>\n",
       "      <th>creditRisk</th>\n",
       "      <th>pastStays1y</th>\n",
       "      <th>staySpend</th>\n",
       "      <th>loyaltyClass</th>\n",
       "      <th>profession_Business</th>\n",
       "      <th>profession_Private Sector</th>\n",
       "      <th>profession_Public Sector</th>\n",
       "      <th>profession_Self-Employed</th>\n",
       "      <th>gender_Female</th>\n",
       "      <th>...</th>\n",
       "      <th>articles_16</th>\n",
       "      <th>articles_17</th>\n",
       "      <th>articles_18</th>\n",
       "      <th>articles_19</th>\n",
       "      <th>articles_20</th>\n",
       "      <th>amexCard_No</th>\n",
       "      <th>amexCard_Yes</th>\n",
       "      <th>purposeTravel_Business</th>\n",
       "      <th>purposeTravel_Leisure Travel</th>\n",
       "      <th>purposeTravel_Medical Tourism</th>\n",
       "    </tr>\n",
       "  </thead>\n",
       "  <tbody>\n",
       "    <tr>\n",
       "      <th>0</th>\n",
       "      <td>39.0</td>\n",
       "      <td>3.18</td>\n",
       "      <td>23.0</td>\n",
       "      <td>1433.147527</td>\n",
       "      <td>Bronze</td>\n",
       "      <td>0</td>\n",
       "      <td>0</td>\n",
       "      <td>1</td>\n",
       "      <td>0</td>\n",
       "      <td>0</td>\n",
       "      <td>...</td>\n",
       "      <td>0</td>\n",
       "      <td>0</td>\n",
       "      <td>0</td>\n",
       "      <td>0</td>\n",
       "      <td>0</td>\n",
       "      <td>0</td>\n",
       "      <td>1</td>\n",
       "      <td>0</td>\n",
       "      <td>0</td>\n",
       "      <td>1</td>\n",
       "    </tr>\n",
       "    <tr>\n",
       "      <th>1</th>\n",
       "      <td>39.0</td>\n",
       "      <td>2.07</td>\n",
       "      <td>48.0</td>\n",
       "      <td>38.379023</td>\n",
       "      <td>Silver</td>\n",
       "      <td>0</td>\n",
       "      <td>1</td>\n",
       "      <td>0</td>\n",
       "      <td>0</td>\n",
       "      <td>1</td>\n",
       "      <td>...</td>\n",
       "      <td>0</td>\n",
       "      <td>0</td>\n",
       "      <td>0</td>\n",
       "      <td>0</td>\n",
       "      <td>0</td>\n",
       "      <td>0</td>\n",
       "      <td>1</td>\n",
       "      <td>0</td>\n",
       "      <td>1</td>\n",
       "      <td>0</td>\n",
       "    </tr>\n",
       "  </tbody>\n",
       "</table>\n",
       "<p>2 rows × 63 columns</p>\n",
       "</div>"
      ],
      "text/plain": [
       "    age  creditRisk  pastStays1y    staySpend loyaltyClass  \\\n",
       "0  39.0        3.18         23.0  1433.147527       Bronze   \n",
       "1  39.0        2.07         48.0    38.379023       Silver   \n",
       "\n",
       "   profession_Business  profession_Private Sector  profession_Public Sector  \\\n",
       "0                    0                          0                         1   \n",
       "1                    0                          1                         0   \n",
       "\n",
       "   profession_Self-Employed  gender_Female  ...  articles_16  articles_17  \\\n",
       "0                         0              0  ...            0            0   \n",
       "1                         0              1  ...            0            0   \n",
       "\n",
       "   articles_18  articles_19  articles_20  amexCard_No  amexCard_Yes  \\\n",
       "0            0            0            0            0             1   \n",
       "1            0            0            0            0             1   \n",
       "\n",
       "   purposeTravel_Business  purposeTravel_Leisure Travel  \\\n",
       "0                       0                             0   \n",
       "1                       0                             1   \n",
       "\n",
       "   purposeTravel_Medical Tourism  \n",
       "0                              1  \n",
       "1                              0  \n",
       "\n",
       "[2 rows x 63 columns]"
      ]
     },
     "execution_count": 35,
     "metadata": {},
     "output_type": "execute_result"
    }
   ],
   "source": [
    "df.head(2)"
   ]
  },
  {
   "cell_type": "code",
   "execution_count": 36,
   "id": "4a27320e",
   "metadata": {},
   "outputs": [
    {
     "data": {
      "text/plain": [
       "Silver    5665\n",
       "Bronze    3998\n",
       "Gold       337\n",
       "Name: loyaltyClass, dtype: int64"
      ]
     },
     "execution_count": 36,
     "metadata": {},
     "output_type": "execute_result"
    }
   ],
   "source": [
    "df.loyaltyClass.value_counts()"
   ]
  },
  {
   "cell_type": "code",
   "execution_count": 37,
   "id": "ac06b160",
   "metadata": {},
   "outputs": [
    {
     "name": "stdout",
     "output_type": "stream",
     "text": [
      "[0 2 0 ... 0 2 2]\n"
     ]
    }
   ],
   "source": [
    "le = LabelEncoder()\n",
    "y = le.fit_transform(df['loyaltyClass'])\n",
    "df = df.drop(columns=['loyaltyClass'], axis=1)\n",
    "x = df\n",
    "print(y)"
   ]
  },
  {
   "cell_type": "code",
   "execution_count": 38,
   "id": "d1b92b1b",
   "metadata": {},
   "outputs": [
    {
     "data": {
      "text/plain": [
       "array(['Bronze', 'Silver', 'Bronze', ..., 'Bronze', 'Silver', 'Silver'],\n",
       "      dtype=object)"
      ]
     },
     "execution_count": 38,
     "metadata": {},
     "output_type": "execute_result"
    }
   ],
   "source": [
    "le.inverse_transform(y) #0 is bronze, and 2 is Silver and 1 is gold "
   ]
  },
  {
   "cell_type": "code",
   "execution_count": 39,
   "id": "8aa0a2e2",
   "metadata": {},
   "outputs": [],
   "source": [
    "#LDA to sepearte the class distance\n",
    "from sklearn.discriminant_analysis import LinearDiscriminantAnalysis\n",
    "lda_model = LinearDiscriminantAnalysis()\n",
    "X_lda = lda_model.fit_transform(x, y)"
   ]
  },
  {
   "cell_type": "code",
   "execution_count": 40,
   "id": "06345081",
   "metadata": {},
   "outputs": [],
   "source": [
    "x_train, x_test, y_train, y_test = train_test_split(X_lda, y, test_size=0.20, random_state=42)"
   ]
  },
  {
   "cell_type": "code",
   "execution_count": 41,
   "id": "0cc8a9c8",
   "metadata": {},
   "outputs": [],
   "source": [
    "#Generating synthatic data since class Gold has less data\n",
    "sm = SMOTE()\n",
    "x_train_res, y_train_res = sm.fit_resample(x_train, y_train.ravel())"
   ]
  },
  {
   "cell_type": "code",
   "execution_count": 42,
   "id": "d2745e94",
   "metadata": {},
   "outputs": [
    {
     "data": {
      "text/plain": [
       "27108"
      ]
     },
     "execution_count": 42,
     "metadata": {},
     "output_type": "execute_result"
    }
   ],
   "source": [
    "x_train_res.size"
   ]
  },
  {
   "cell_type": "code",
   "execution_count": 43,
   "id": "74c42d79",
   "metadata": {},
   "outputs": [
    {
     "name": "stdout",
     "output_type": "stream",
     "text": [
      "4518\n",
      "4518\n",
      "4518\n",
      "(13554,)\n"
     ]
    }
   ],
   "source": [
    "print(np.count_nonzero(y_train_res == 0))\n",
    "print(np.count_nonzero(y_train_res == 1))\n",
    "print(np.count_nonzero(y_train_res == 2))\n",
    "print(y_train_res.shape)"
   ]
  },
  {
   "cell_type": "code",
   "execution_count": 44,
   "id": "f38df50f",
   "metadata": {},
   "outputs": [
    {
     "data": {
      "text/plain": [
       "LogisticRegression(C=100, multi_class='multinomial')"
      ]
     },
     "execution_count": 44,
     "metadata": {},
     "output_type": "execute_result"
    }
   ],
   "source": [
    "logreg = LogisticRegression(C=100, multi_class='multinomial')\n",
    "logreg.fit(x_train_res, y_train_res)"
   ]
  },
  {
   "cell_type": "code",
   "execution_count": 45,
   "id": "f0ac4756",
   "metadata": {},
   "outputs": [],
   "source": [
    "y_pred_test = logreg.predict(x_test)"
   ]
  },
  {
   "cell_type": "code",
   "execution_count": 46,
   "id": "71f4cfdb",
   "metadata": {},
   "outputs": [
    {
     "data": {
      "text/plain": [
       "array([2, 0, 2, ..., 2, 1, 0])"
      ]
     },
     "execution_count": 46,
     "metadata": {},
     "output_type": "execute_result"
    }
   ],
   "source": [
    "y_pred_test"
   ]
  },
  {
   "cell_type": "code",
   "execution_count": 47,
   "id": "97e7eff9",
   "metadata": {},
   "outputs": [
    {
     "name": "stdout",
     "output_type": "stream",
     "text": [
      "Model accuracy score: 0.4615\n"
     ]
    }
   ],
   "source": [
    "from sklearn.metrics import accuracy_score\n",
    "\n",
    "print('Model accuracy score: {0:0.4f}'. format(accuracy_score(y_test, y_pred_test)))"
   ]
  },
  {
   "cell_type": "code",
   "execution_count": 48,
   "id": "ec991e58",
   "metadata": {},
   "outputs": [
    {
     "data": {
      "text/plain": [
       "<matplotlib.legend.Legend at 0x7fd26a424ee0>"
      ]
     },
     "execution_count": 48,
     "metadata": {},
     "output_type": "execute_result"
    },
    {
     "data": {
      "image/png": "[encoded data removed]",
      "text/plain": [
       "<Figure size 1080x720 with 1 Axes>"
      ]
     },
     "metadata": {
      "needs_background": "light"
     },
     "output_type": "display_data"
    }
   ],
   "source": [
    "# roc curve for classes\n",
    "plt.figure(figsize=(15,10))\n",
    "clf = OneVsRestClassifier(LogisticRegression(max_iter = 10000))\n",
    "clf.fit(x_train_res, y_train_res)\n",
    "pred = clf.predict(x_test)\n",
    "pred_prob = clf.predict_proba(x_test)\n",
    "fpr = {}\n",
    "tpr = {}\n",
    "thresh ={}\n",
    "\n",
    "n_class = 3\n",
    "\n",
    "for i in range(n_class):    \n",
    "    fpr[i], tpr[i], thresh[i] = roc_curve(y_test, pred_prob[:,i], pos_label=i)\n",
    "    \n",
    "# plotting    \n",
    "plt.plot(fpr[0], tpr[0], linestyle='--',color='orange', label='Class 0 vs Rest')\n",
    "plt.plot(fpr[1], tpr[1], linestyle='--',color='green', label='Class 1 vs Rest')\n",
    "plt.plot(fpr[2], tpr[2], linestyle='--',color='blue', label='Class 2 vs Rest')\n",
    "plt.title('Multiclass ROC curve')\n",
    "plt.xlabel('False Positive Rate')\n",
    "plt.ylabel('True Positive rate')\n",
    "plt.legend(loc='best')\n",
    "# plt.savefig('Multiclass ROC',dpi=300);    "
   ]
  },
  {
   "cell_type": "markdown",
   "id": "a69bc7cd",
   "metadata": {},
   "source": []
  },
  {
   "cell_type": "code",
   "execution_count": 49,
   "id": "103a0492",
   "metadata": {},
   "outputs": [
    {
     "data": {
      "text/plain": [
       "array([2, 0, 2, ..., 2, 1, 0])"
      ]
     },
     "execution_count": 49,
     "metadata": {},
     "output_type": "execute_result"
    }
   ],
   "source": [
    "y_pred_test"
   ]
  },
  {
   "cell_type": "code",
   "execution_count": 50,
   "id": "cb8ffc3c",
   "metadata": {},
   "outputs": [
    {
     "data": {
      "text/plain": [
       "array([[409, 179, 190],\n",
       "       [ 31,  24,  20],\n",
       "       [322, 335, 490]])"
      ]
     },
     "execution_count": 50,
     "metadata": {},
     "output_type": "execute_result"
    }
   ],
   "source": [
    "predictions = logreg.predict_proba(x_test)\n",
    "y_classes = predictions.argmax(axis=-1)\n",
    "cf_matrix = confusion_matrix(y_test, y_classes)\n",
    "cf_matrix"
   ]
  },
  {
   "cell_type": "code",
   "execution_count": 51,
   "id": "fa53b5ec",
   "metadata": {},
   "outputs": [
    {
     "data": {
      "image/png": "[encoded data removed]",
      "text/plain": [
       "<Figure size 1080x360 with 2 Axes>"
      ]
     },
     "metadata": {
      "needs_background": "light"
     },
     "output_type": "display_data"
    }
   ],
   "source": [
    "plt.figure(figsize=(15,5))\n",
    "ax = sns.heatmap(cf_matrix, annot=True, cmap='Blues')\n",
    "\n",
    "ax.set_title('Seaborn Confusion Matrix with labels\\n\\n'); \n",
    "ax.set_xlabel('\\nPredicted Values')\n",
    "ax.set_ylabel('Actual Values ');\n",
    "\n",
    "## Display the visualization of the Confusion Matrix.\n",
    "plt.show()"
   ]
  },
  {
   "cell_type": "code",
   "execution_count": 52,
   "id": "0bfb3277",
   "metadata": {},
   "outputs": [],
   "source": [
    "#need to change the theshold\n",
    "y_pred_test = logreg.predict_proba(x_test)"
   ]
  },
  {
   "cell_type": "code",
   "execution_count": 53,
   "id": "2b1ec7d3",
   "metadata": {},
   "outputs": [
    {
     "data": {
      "text/plain": [
       "array([[0.28356063, 0.25088047, 0.4655589 ],\n",
       "       [0.34454649, 0.33276086, 0.32269265],\n",
       "       [0.08514872, 0.33297679, 0.58187449],\n",
       "       ...,\n",
       "       [0.32921655, 0.29844594, 0.3723375 ],\n",
       "       [0.23615139, 0.49821774, 0.26563087],\n",
       "       [0.46563812, 0.25806959, 0.27629229]])"
      ]
     },
     "execution_count": 53,
     "metadata": {},
     "output_type": "execute_result"
    }
   ],
   "source": [
    "y_pred_test"
   ]
  },
  {
   "cell_type": "code",
   "execution_count": 54,
   "id": "f7b5e899",
   "metadata": {},
   "outputs": [],
   "source": [
    "probability_df = pd.DataFrame(columns=['Bronze', 'Gold', 'Silver'])\n",
    "probability_df['Bronze'] = y_pred_test[:,0]\n",
    "probability_df['Gold'] = y_pred_test[:,1]\n",
    "probability_df['Silver'] = y_pred_test[:,2]"
   ]
  },
  {
   "cell_type": "code",
   "execution_count": 61,
   "id": "e56582b0",
   "metadata": {},
   "outputs": [
    {
     "data": {
      "text/html": [
       "<div>\n",
       "<style scoped>\n",
       "    .dataframe tbody tr th:only-of-type {\n",
       "        vertical-align: middle;\n",
       "    }\n",
       "\n",
       "    .dataframe tbody tr th {\n",
       "        vertical-align: top;\n",
       "    }\n",
       "\n",
       "    .dataframe thead th {\n",
       "        text-align: right;\n",
       "    }\n",
       "</style>\n",
       "<table border=\"1\" class=\"dataframe\">\n",
       "  <thead>\n",
       "    <tr style=\"text-align: right;\">\n",
       "      <th></th>\n",
       "      <th>Bronze</th>\n",
       "      <th>Gold</th>\n",
       "      <th>Silver</th>\n",
       "    </tr>\n",
       "  </thead>\n",
       "  <tbody>\n",
       "    <tr>\n",
       "      <th>0</th>\n",
       "      <td>0.283561</td>\n",
       "      <td>0.250880</td>\n",
       "      <td>0.465559</td>\n",
       "    </tr>\n",
       "    <tr>\n",
       "      <th>1</th>\n",
       "      <td>0.344546</td>\n",
       "      <td>0.332761</td>\n",
       "      <td>0.322693</td>\n",
       "    </tr>\n",
       "    <tr>\n",
       "      <th>2</th>\n",
       "      <td>0.085149</td>\n",
       "      <td>0.332977</td>\n",
       "      <td>0.581874</td>\n",
       "    </tr>\n",
       "    <tr>\n",
       "      <th>3</th>\n",
       "      <td>0.212267</td>\n",
       "      <td>0.438142</td>\n",
       "      <td>0.349591</td>\n",
       "    </tr>\n",
       "    <tr>\n",
       "      <th>4</th>\n",
       "      <td>0.327643</td>\n",
       "      <td>0.362366</td>\n",
       "      <td>0.309991</td>\n",
       "    </tr>\n",
       "    <tr>\n",
       "      <th>...</th>\n",
       "      <td>...</td>\n",
       "      <td>...</td>\n",
       "      <td>...</td>\n",
       "    </tr>\n",
       "    <tr>\n",
       "      <th>1995</th>\n",
       "      <td>0.385884</td>\n",
       "      <td>0.173394</td>\n",
       "      <td>0.440722</td>\n",
       "    </tr>\n",
       "    <tr>\n",
       "      <th>1996</th>\n",
       "      <td>0.206085</td>\n",
       "      <td>0.515681</td>\n",
       "      <td>0.278235</td>\n",
       "    </tr>\n",
       "    <tr>\n",
       "      <th>1997</th>\n",
       "      <td>0.329217</td>\n",
       "      <td>0.298446</td>\n",
       "      <td>0.372338</td>\n",
       "    </tr>\n",
       "    <tr>\n",
       "      <th>1998</th>\n",
       "      <td>0.236151</td>\n",
       "      <td>0.498218</td>\n",
       "      <td>0.265631</td>\n",
       "    </tr>\n",
       "    <tr>\n",
       "      <th>1999</th>\n",
       "      <td>0.465638</td>\n",
       "      <td>0.258070</td>\n",
       "      <td>0.276292</td>\n",
       "    </tr>\n",
       "  </tbody>\n",
       "</table>\n",
       "<p>2000 rows × 3 columns</p>\n",
       "</div>"
      ],
      "text/plain": [
       "        Bronze      Gold    Silver\n",
       "0     0.283561  0.250880  0.465559\n",
       "1     0.344546  0.332761  0.322693\n",
       "2     0.085149  0.332977  0.581874\n",
       "3     0.212267  0.438142  0.349591\n",
       "4     0.327643  0.362366  0.309991\n",
       "...        ...       ...       ...\n",
       "1995  0.385884  0.173394  0.440722\n",
       "1996  0.206085  0.515681  0.278235\n",
       "1997  0.329217  0.298446  0.372338\n",
       "1998  0.236151  0.498218  0.265631\n",
       "1999  0.465638  0.258070  0.276292\n",
       "\n",
       "[2000 rows x 3 columns]"
      ]
     },
     "execution_count": 61,
     "metadata": {},
     "output_type": "execute_result"
    }
   ],
   "source": [
    "probability_df"
   ]
  },
  {
   "cell_type": "code",
   "execution_count": 57,
   "id": "a408e71a",
   "metadata": {},
   "outputs": [],
   "source": [
    "# threshold_pred = []\n",
    "# for i in range(len(probability_df)):\n",
    "#     if  0.011388 <= probability_df.loc[i].Gold <= 0.086523 :\n",
    "#         threshold_pred.append(1)\n",
    "#     elif  0.106297 <= probability_df.loc[i].Bronze <= 0.497589:\n",
    "#         threshold_pred.append(0)\n",
    "#     else:\n",
    "#         threshold_pred.append(2)"
   ]
  },
  {
   "cell_type": "code",
   "execution_count": 58,
   "id": "059f1249",
   "metadata": {},
   "outputs": [],
   "source": [
    "# # evaluate each threshold\n",
    "# scores = [f1_score(y_test, to_labels(probs, t)) for t in thresholds]"
   ]
  },
  {
   "cell_type": "code",
   "execution_count": 59,
   "id": "5ab69695",
   "metadata": {},
   "outputs": [
    {
     "data": {
      "text/plain": [
       "2000"
      ]
     },
     "execution_count": 59,
     "metadata": {},
     "output_type": "execute_result"
    }
   ],
   "source": [
    "len(probability_df)"
   ]
  },
  {
   "cell_type": "code",
   "execution_count": 60,
   "id": "8f68300b",
   "metadata": {},
   "outputs": [
    {
     "data": {
      "text/plain": [
       "Bronze    0.283561\n",
       "Gold      0.250880\n",
       "Silver    0.465559\n",
       "Name: 0, dtype: float64"
      ]
     },
     "execution_count": 60,
     "metadata": {},
     "output_type": "execute_result"
    }
   ],
   "source": [
    "probability_df.loc[0]"
   ]
  },
  {
   "cell_type": "code",
   "execution_count": null,
   "id": "113ebbf1",
   "metadata": {},
   "outputs": [],
   "source": []
  }
 ],
 "metadata": {
  "kernelspec": {
   "display_name": "Python 3 (ipykernel)",
   "language": "python",
   "name": "python3"
  },
  "language_info": {
   "codemirror_mode": {
    "name": "ipython",
    "version": 3
   },
   "file_extension": ".py",
   "mimetype": "text/x-python",
   "name": "python",
   "nbconvert_exporter": "python",
   "pygments_lexer": "ipython3",
   "version": "3.9.7"
  }
 },
 "nbformat": 4,
 "nbformat_minor": 5
}
